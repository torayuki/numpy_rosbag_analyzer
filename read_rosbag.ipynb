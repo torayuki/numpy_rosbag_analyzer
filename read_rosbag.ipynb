{
 "cells": [
  {
   "cell_type": "code",
   "execution_count": 1,
   "metadata": {},
   "outputs": [],
   "source": [
    "import os\n",
    "import cv2\n",
    "import glob\n",
    "import matplotlib.pyplot as plt\n",
    "from matplotlib.animation import FuncAnimation\n",
    "import librosa\n",
    "import librosa.display\n",
    "import torch\n",
    "import torchaudio\n",
    "import math\n",
    "import numpy as np\n",
    "from tqdm import tqdm\n",
    "import pandas as pd\n",
    "from PIL import Image\n",
    "\n",
    "# from utils.file_reader import *\n"
   ]
  },
  {
   "cell_type": "code",
   "execution_count": 2,
   "metadata": {},
   "outputs": [],
   "source": [
    "def tensor2numpy(array):\n",
    "    if torch.is_tensor(array):\n",
    "        array = array.detach().cpu().numpy().copy()\n",
    "    return array\n",
    "\n",
    "def flat(feat):\n",
    "    feat_size = feat.shape[-1]\n",
    "    return feat.reshape(-1, feat_size)\n",
    "\n",
    "def get_xyz(feat):\n",
    "    feat_flat = flat(feat)\n",
    "    if not (feat_flat.shape[1] == 3):\n",
    "        print(\"error\")\n",
    "    return feat_flat[:, 0], feat_flat[:, 1], feat_flat[:, 2]\n",
    "\n",
    "def sound_postprocess(sound):\n",
    "    sound_mel = np.multiply(sound, -80)\n",
    "    return sound_mel\n",
    "\n",
    "# Postprocess an observation for storage (from float32 numpy array [-0.5, 0.5] to uint8 numpy array [0, 255])\n",
    "def postprocess_observation(observation, bit_depth=5):\n",
    "  return np.clip(np.floor((observation + 0.5) * 2 ** bit_depth) * 2 ** (8 - bit_depth), 0, 2 ** 8 - 1).astype(np.uint8)\n",
    "\n",
    "def plot_tragectory(data, ax, t, dim=3):\n",
    "    pos_x, pos_y, pos_z = get_xyz(data[:t])\n",
    "    if dim == 3:\n",
    "        ax.plot(pos_x, pos_y, pos_z, marker=\"x\")\n",
    "    else:\n",
    "        ax.plot(pos_x, pos_y, marker=\"x\")\n",
    "    ax.set_xlim(0.2, 0.3)\n",
    "    ax.set_ylim(0.005, 0.01)\n",
    "    if dim == 3:\n",
    "        ax.set_zlim(0.15, 0.25)\n",
    "\n",
    "def plot_observations(data, plot_dir, file_name, n_frame=None):\n",
    "    if n_frame == None:\n",
    "        n_frame = len(data[\"image_horizon\"])\n",
    "\n",
    "    # fft parameter\n",
    "    sr = 16000\n",
    "    fft_size = 1024\n",
    "    frame_period = 5  # ms\n",
    "    target_hz = 10\n",
    "    hop_length = int(0.001 * sr * frame_period)\n",
    "    frame_num = int((1 / target_hz) / (0.001 * frame_period))\n",
    "\n",
    "    fig = plt.figure(figsize=(5 * 2, 5 * 2))\n",
    "    ax1 = fig.add_subplot(2, 2, 1)\n",
    "    ax2 = fig.add_subplot(2, 2, 2)\n",
    "    ax3 = fig.add_subplot(2, 2, 3, projection=\"3d\")\n",
    "\n",
    "    def plot(t):\n",
    "        plt.cla()\n",
    "        fig.suptitle(\"observation t={}\".format(t))\n",
    "        imh = postprocess_observation(data[\"image_horizon\"][t])\n",
    "        ax1.imshow(imh.transpose(1, 2, 0)[:,:,::-1])\n",
    "        mlsp = sound_postprocess(data[\"sound\"][t])\n",
    "        librosa.display.specshow(mlsp, x_axis=\"ms\", y_axis=\"mel\", sr=sr, hop_length=hop_length, ax=ax2)\n",
    "        plot_tragectory(data[\"end_effector\"], ax3, t)\n",
    "        ax1.title.set_text(\"Horizontal Image\")\n",
    "        ax2.title.set_text(\"Mel-Spectrogram\")\n",
    "        ax3.title.set_text(\"End-effector Position\")\n",
    "\n",
    "    # create animation 10Hz\n",
    "    anim = FuncAnimation(fig, plot, frames=n_frame, interval=100)\n",
    "    save_plot_name = os.path.join(plot_dir, file_name + \".mp4\")\n",
    "    anim.save(save_plot_name, writer=\"ffmpeg\")"
   ]
  },
  {
   "cell_type": "code",
   "execution_count": 2,
   "metadata": {},
   "outputs": [
    {
     "name": "stderr",
     "output_type": "stream",
     "text": [
      "train dataset: 100%|██████████| 3/3 [00:00<00:00, 7113.01it/s]"
     ]
    },
    {
     "name": "stdout",
     "output_type": "stream",
     "text": [
      "cobotta_2022-01-11-08-24-53\n",
      "cobotta_2022-01-11-08-17-15\n",
      "cobotta_2022-01-11-08-21-34\n"
     ]
    },
    {
     "name": "stderr",
     "output_type": "stream",
     "text": [
      "\n"
     ]
    }
   ],
   "source": [
    "rosbag_path = \"rosbags\"\n",
    "rosbag_dir_list = os.listdir(rosbag_path)\n",
    "for dir_name in tqdm(rosbag_dir_list, desc=\"train dataset\"):\n",
    "    print(dir_name)"
   ]
  },
  {
   "cell_type": "code",
   "execution_count": 4,
   "metadata": {},
   "outputs": [
    {
     "name": "stdout",
     "output_type": "stream",
     "text": [
      "image_horizon\n",
      "(494, 3, 64, 64)\n",
      "sound\n",
      "(494, 128, 20)\n",
      "end_effector\n",
      "(494, 3)\n",
      "image_horizon\n",
      "(599, 3, 64, 64)\n",
      "sound\n",
      "(599, 128, 20)\n",
      "end_effector\n",
      "(599, 3)\n",
      "image_horizon\n",
      "(396, 3, 64, 64)\n",
      "sound\n",
      "(396, 128, 20)\n",
      "end_effector\n",
      "(396, 3)\n",
      "image_horizon\n",
      "(825, 3, 64, 64)\n",
      "sound\n",
      "(825, 128, 20)\n",
      "end_effector\n",
      "(825, 3)\n",
      "image_horizon\n",
      "(879, 3, 64, 64)\n",
      "sound\n",
      "(879, 128, 20)\n",
      "end_effector\n",
      "(879, 3)\n",
      "image_horizon\n",
      "(301, 3, 64, 64)\n",
      "sound\n",
      "(301, 128, 20)\n",
      "end_effector\n",
      "(301, 3)\n",
      "image_horizon\n",
      "(597, 3, 64, 64)\n",
      "sound\n",
      "(597, 128, 20)\n",
      "end_effector\n",
      "(597, 3)\n",
      "image_horizon\n",
      "(638, 3, 64, 64)\n",
      "sound\n",
      "(638, 128, 20)\n",
      "end_effector\n",
      "(638, 3)\n"
     ]
    }
   ],
   "source": [
    "numpy_path = \"numpy/2022-03-24\"\n",
    "numpy_dir_list = os.listdir(numpy_path)\n",
    "\n",
    "\n",
    "def tensor2numpy(array):\n",
    "    if torch.is_tensor(array):\n",
    "        array = array.detach().cpu().numpy().copy()\n",
    "    return array\n",
    "\n",
    "for numpy_dir in numpy_dir_list:\n",
    "    observations = {}\n",
    "    dir_path = os.path.join(numpy_path, numpy_dir)\n",
    "    n_frame = sum(os.path.isfile(os.path.join(dir_path, name)) for name in os.listdir(dir_path))\n",
    "    for i in range(n_frame):\n",
    "        file_path = os.path.join(dir_path, \"frame_%05d.npy\" % i)\n",
    "        dict = np.load(file_path, allow_pickle=True).item()\n",
    "        observation = dict['observations']\n",
    "        for key in observation.keys():\n",
    "            if not key in observations.keys():\n",
    "                observations[key] = tensor2numpy(observation[key])\n",
    "            else:\n",
    "                observations[key] = np.concatenate([observations[key], tensor2numpy(observation[key])], axis=0)\n",
    "    for key in observations.keys():\n",
    "        print(key)\n",
    "        print(observations[key].shape)"
   ]
  },
  {
   "cell_type": "code",
   "execution_count": 22,
   "metadata": {},
   "outputs": [
    {
     "ename": "KeyboardInterrupt",
     "evalue": "",
     "output_type": "error",
     "traceback": [
      "\u001b[0;31m---------------------------------------------------------------------------\u001b[0m",
      "\u001b[0;31mKeyboardInterrupt\u001b[0m                         Traceback (most recent call last)",
      "\u001b[0;32m/tmp/ipykernel_44540/3665794731.py\u001b[0m in \u001b[0;36m<module>\u001b[0;34m\u001b[0m\n\u001b[1;32m     20\u001b[0m \u001b[0;34m\u001b[0m\u001b[0m\n\u001b[1;32m     21\u001b[0m     \u001b[0;31m# n_frame = 1\u001b[0m\u001b[0;34m\u001b[0m\u001b[0;34m\u001b[0m\u001b[0;34m\u001b[0m\u001b[0m\n\u001b[0;32m---> 22\u001b[0;31m     \u001b[0mplot_observations\u001b[0m\u001b[0;34m(\u001b[0m\u001b[0mobservations\u001b[0m\u001b[0;34m,\u001b[0m \u001b[0mresults_path\u001b[0m\u001b[0;34m,\u001b[0m \u001b[0mnumpy_dir\u001b[0m\u001b[0;34m,\u001b[0m \u001b[0mn_frame\u001b[0m\u001b[0;34m)\u001b[0m\u001b[0;34m\u001b[0m\u001b[0;34m\u001b[0m\u001b[0m\n\u001b[0m",
      "\u001b[0;32m/tmp/ipykernel_44540/1533710983.py\u001b[0m in \u001b[0;36mplot_observations\u001b[0;34m(data, plot_dir, file_name, n_frame)\u001b[0m\n\u001b[1;32m     79\u001b[0m     \u001b[0manim\u001b[0m \u001b[0;34m=\u001b[0m \u001b[0mFuncAnimation\u001b[0m\u001b[0;34m(\u001b[0m\u001b[0mfig\u001b[0m\u001b[0;34m,\u001b[0m \u001b[0mplot\u001b[0m\u001b[0;34m,\u001b[0m \u001b[0mframes\u001b[0m\u001b[0;34m=\u001b[0m\u001b[0mn_frame\u001b[0m\u001b[0;34m,\u001b[0m \u001b[0minterval\u001b[0m\u001b[0;34m=\u001b[0m\u001b[0;36m100\u001b[0m\u001b[0;34m)\u001b[0m\u001b[0;34m\u001b[0m\u001b[0;34m\u001b[0m\u001b[0m\n\u001b[1;32m     80\u001b[0m     \u001b[0msave_plot_name\u001b[0m \u001b[0;34m=\u001b[0m \u001b[0mos\u001b[0m\u001b[0;34m.\u001b[0m\u001b[0mpath\u001b[0m\u001b[0;34m.\u001b[0m\u001b[0mjoin\u001b[0m\u001b[0;34m(\u001b[0m\u001b[0mplot_dir\u001b[0m\u001b[0;34m,\u001b[0m \u001b[0mfile_name\u001b[0m \u001b[0;34m+\u001b[0m \u001b[0;34m\".mp4\"\u001b[0m\u001b[0;34m)\u001b[0m\u001b[0;34m\u001b[0m\u001b[0;34m\u001b[0m\u001b[0m\n\u001b[0;32m---> 81\u001b[0;31m     \u001b[0manim\u001b[0m\u001b[0;34m.\u001b[0m\u001b[0msave\u001b[0m\u001b[0;34m(\u001b[0m\u001b[0msave_plot_name\u001b[0m\u001b[0;34m,\u001b[0m \u001b[0mwriter\u001b[0m\u001b[0;34m=\u001b[0m\u001b[0;34m\"ffmpeg\"\u001b[0m\u001b[0;34m)\u001b[0m\u001b[0;34m\u001b[0m\u001b[0;34m\u001b[0m\u001b[0m\n\u001b[0m",
      "\u001b[0;32m~/.pyenv/versions/3.8.11/lib/python3.8/site-packages/matplotlib/animation.py\u001b[0m in \u001b[0;36msave\u001b[0;34m(self, filename, writer, fps, dpi, codec, bitrate, extra_args, metadata, extra_anim, savefig_kwargs, progress_callback)\u001b[0m\n\u001b[1;32m   1171\u001b[0m                 \u001b[0;32mfor\u001b[0m \u001b[0manim\u001b[0m\u001b[0;34m,\u001b[0m \u001b[0md\u001b[0m \u001b[0;32min\u001b[0m \u001b[0mzip\u001b[0m\u001b[0;34m(\u001b[0m\u001b[0mall_anim\u001b[0m\u001b[0;34m,\u001b[0m \u001b[0mdata\u001b[0m\u001b[0;34m)\u001b[0m\u001b[0;34m:\u001b[0m\u001b[0;34m\u001b[0m\u001b[0;34m\u001b[0m\u001b[0m\n\u001b[1;32m   1172\u001b[0m                     \u001b[0;31m# TODO: See if turning off blit is really necessary\u001b[0m\u001b[0;34m\u001b[0m\u001b[0;34m\u001b[0m\u001b[0;34m\u001b[0m\u001b[0m\n\u001b[0;32m-> 1173\u001b[0;31m                     \u001b[0manim\u001b[0m\u001b[0;34m.\u001b[0m\u001b[0m_draw_next_frame\u001b[0m\u001b[0;34m(\u001b[0m\u001b[0md\u001b[0m\u001b[0;34m,\u001b[0m \u001b[0mblit\u001b[0m\u001b[0;34m=\u001b[0m\u001b[0;32mFalse\u001b[0m\u001b[0;34m)\u001b[0m\u001b[0;34m\u001b[0m\u001b[0;34m\u001b[0m\u001b[0m\n\u001b[0m\u001b[1;32m   1174\u001b[0m                     \u001b[0;32mif\u001b[0m \u001b[0mprogress_callback\u001b[0m \u001b[0;32mis\u001b[0m \u001b[0;32mnot\u001b[0m \u001b[0;32mNone\u001b[0m\u001b[0;34m:\u001b[0m\u001b[0;34m\u001b[0m\u001b[0;34m\u001b[0m\u001b[0m\n\u001b[1;32m   1175\u001b[0m                         \u001b[0mprogress_callback\u001b[0m\u001b[0;34m(\u001b[0m\u001b[0mframe_number\u001b[0m\u001b[0;34m,\u001b[0m \u001b[0mtotal_frames\u001b[0m\u001b[0;34m)\u001b[0m\u001b[0;34m\u001b[0m\u001b[0;34m\u001b[0m\u001b[0m\n",
      "\u001b[0;32m~/.pyenv/versions/3.8.11/lib/python3.8/site-packages/matplotlib/animation.py\u001b[0m in \u001b[0;36m_draw_next_frame\u001b[0;34m(self, framedata, blit)\u001b[0m\n\u001b[1;32m   1207\u001b[0m         \u001b[0mself\u001b[0m\u001b[0;34m.\u001b[0m\u001b[0m_pre_draw\u001b[0m\u001b[0;34m(\u001b[0m\u001b[0mframedata\u001b[0m\u001b[0;34m,\u001b[0m \u001b[0mblit\u001b[0m\u001b[0;34m)\u001b[0m\u001b[0;34m\u001b[0m\u001b[0;34m\u001b[0m\u001b[0m\n\u001b[1;32m   1208\u001b[0m         \u001b[0mself\u001b[0m\u001b[0;34m.\u001b[0m\u001b[0m_draw_frame\u001b[0m\u001b[0;34m(\u001b[0m\u001b[0mframedata\u001b[0m\u001b[0;34m)\u001b[0m\u001b[0;34m\u001b[0m\u001b[0;34m\u001b[0m\u001b[0m\n\u001b[0;32m-> 1209\u001b[0;31m         \u001b[0mself\u001b[0m\u001b[0;34m.\u001b[0m\u001b[0m_post_draw\u001b[0m\u001b[0;34m(\u001b[0m\u001b[0mframedata\u001b[0m\u001b[0;34m,\u001b[0m \u001b[0mblit\u001b[0m\u001b[0;34m)\u001b[0m\u001b[0;34m\u001b[0m\u001b[0;34m\u001b[0m\u001b[0m\n\u001b[0m\u001b[1;32m   1210\u001b[0m \u001b[0;34m\u001b[0m\u001b[0m\n\u001b[1;32m   1211\u001b[0m     \u001b[0;32mdef\u001b[0m \u001b[0m_init_draw\u001b[0m\u001b[0;34m(\u001b[0m\u001b[0mself\u001b[0m\u001b[0;34m)\u001b[0m\u001b[0;34m:\u001b[0m\u001b[0;34m\u001b[0m\u001b[0;34m\u001b[0m\u001b[0m\n",
      "\u001b[0;32m~/.pyenv/versions/3.8.11/lib/python3.8/site-packages/matplotlib/animation.py\u001b[0m in \u001b[0;36m_post_draw\u001b[0;34m(self, framedata, blit)\u001b[0m\n\u001b[1;32m   1232\u001b[0m             \u001b[0mself\u001b[0m\u001b[0;34m.\u001b[0m\u001b[0m_blit_draw\u001b[0m\u001b[0;34m(\u001b[0m\u001b[0mself\u001b[0m\u001b[0;34m.\u001b[0m\u001b[0m_drawn_artists\u001b[0m\u001b[0;34m)\u001b[0m\u001b[0;34m\u001b[0m\u001b[0;34m\u001b[0m\u001b[0m\n\u001b[1;32m   1233\u001b[0m         \u001b[0;32melse\u001b[0m\u001b[0;34m:\u001b[0m\u001b[0;34m\u001b[0m\u001b[0;34m\u001b[0m\u001b[0m\n\u001b[0;32m-> 1234\u001b[0;31m             \u001b[0mself\u001b[0m\u001b[0;34m.\u001b[0m\u001b[0m_fig\u001b[0m\u001b[0;34m.\u001b[0m\u001b[0mcanvas\u001b[0m\u001b[0;34m.\u001b[0m\u001b[0mdraw_idle\u001b[0m\u001b[0;34m(\u001b[0m\u001b[0;34m)\u001b[0m\u001b[0;34m\u001b[0m\u001b[0;34m\u001b[0m\u001b[0m\n\u001b[0m\u001b[1;32m   1235\u001b[0m \u001b[0;34m\u001b[0m\u001b[0m\n\u001b[1;32m   1236\u001b[0m     \u001b[0;31m# The rest of the code in this class is to facilitate easy blitting\u001b[0m\u001b[0;34m\u001b[0m\u001b[0;34m\u001b[0m\u001b[0;34m\u001b[0m\u001b[0m\n",
      "\u001b[0;32m~/.pyenv/versions/3.8.11/lib/python3.8/site-packages/matplotlib/backend_bases.py\u001b[0m in \u001b[0;36mdraw_idle\u001b[0;34m(self, *args, **kwargs)\u001b[0m\n\u001b[1;32m   2053\u001b[0m         \u001b[0;32mif\u001b[0m \u001b[0;32mnot\u001b[0m \u001b[0mself\u001b[0m\u001b[0;34m.\u001b[0m\u001b[0m_is_idle_drawing\u001b[0m\u001b[0;34m:\u001b[0m\u001b[0;34m\u001b[0m\u001b[0;34m\u001b[0m\u001b[0m\n\u001b[1;32m   2054\u001b[0m             \u001b[0;32mwith\u001b[0m \u001b[0mself\u001b[0m\u001b[0;34m.\u001b[0m\u001b[0m_idle_draw_cntx\u001b[0m\u001b[0;34m(\u001b[0m\u001b[0;34m)\u001b[0m\u001b[0;34m:\u001b[0m\u001b[0;34m\u001b[0m\u001b[0;34m\u001b[0m\u001b[0m\n\u001b[0;32m-> 2055\u001b[0;31m                 \u001b[0mself\u001b[0m\u001b[0;34m.\u001b[0m\u001b[0mdraw\u001b[0m\u001b[0;34m(\u001b[0m\u001b[0;34m*\u001b[0m\u001b[0margs\u001b[0m\u001b[0;34m,\u001b[0m \u001b[0;34m**\u001b[0m\u001b[0mkwargs\u001b[0m\u001b[0;34m)\u001b[0m\u001b[0;34m\u001b[0m\u001b[0;34m\u001b[0m\u001b[0m\n\u001b[0m\u001b[1;32m   2056\u001b[0m \u001b[0;34m\u001b[0m\u001b[0m\n\u001b[1;32m   2057\u001b[0m     \u001b[0;32mdef\u001b[0m \u001b[0mget_width_height\u001b[0m\u001b[0;34m(\u001b[0m\u001b[0mself\u001b[0m\u001b[0;34m)\u001b[0m\u001b[0;34m:\u001b[0m\u001b[0;34m\u001b[0m\u001b[0;34m\u001b[0m\u001b[0m\n",
      "\u001b[0;32m~/.pyenv/versions/3.8.11/lib/python3.8/site-packages/matplotlib/backends/backend_agg.py\u001b[0m in \u001b[0;36mdraw\u001b[0;34m(self)\u001b[0m\n\u001b[1;32m    404\u001b[0m              (self.toolbar._wait_cursor_for_draw_cm() if self.toolbar\n\u001b[1;32m    405\u001b[0m               else nullcontext()):\n\u001b[0;32m--> 406\u001b[0;31m             \u001b[0mself\u001b[0m\u001b[0;34m.\u001b[0m\u001b[0mfigure\u001b[0m\u001b[0;34m.\u001b[0m\u001b[0mdraw\u001b[0m\u001b[0;34m(\u001b[0m\u001b[0mself\u001b[0m\u001b[0;34m.\u001b[0m\u001b[0mrenderer\u001b[0m\u001b[0;34m)\u001b[0m\u001b[0;34m\u001b[0m\u001b[0;34m\u001b[0m\u001b[0m\n\u001b[0m\u001b[1;32m    407\u001b[0m             \u001b[0;31m# A GUI class may be need to update a window using this draw, so\u001b[0m\u001b[0;34m\u001b[0m\u001b[0;34m\u001b[0m\u001b[0;34m\u001b[0m\u001b[0m\n\u001b[1;32m    408\u001b[0m             \u001b[0;31m# don't forget to call the superclass.\u001b[0m\u001b[0;34m\u001b[0m\u001b[0;34m\u001b[0m\u001b[0;34m\u001b[0m\u001b[0m\n",
      "\u001b[0;32m~/.pyenv/versions/3.8.11/lib/python3.8/site-packages/matplotlib/artist.py\u001b[0m in \u001b[0;36mdraw_wrapper\u001b[0;34m(artist, renderer, *args, **kwargs)\u001b[0m\n\u001b[1;32m     72\u001b[0m     \u001b[0;34m@\u001b[0m\u001b[0mwraps\u001b[0m\u001b[0;34m(\u001b[0m\u001b[0mdraw\u001b[0m\u001b[0;34m)\u001b[0m\u001b[0;34m\u001b[0m\u001b[0;34m\u001b[0m\u001b[0m\n\u001b[1;32m     73\u001b[0m     \u001b[0;32mdef\u001b[0m \u001b[0mdraw_wrapper\u001b[0m\u001b[0;34m(\u001b[0m\u001b[0martist\u001b[0m\u001b[0;34m,\u001b[0m \u001b[0mrenderer\u001b[0m\u001b[0;34m,\u001b[0m \u001b[0;34m*\u001b[0m\u001b[0margs\u001b[0m\u001b[0;34m,\u001b[0m \u001b[0;34m**\u001b[0m\u001b[0mkwargs\u001b[0m\u001b[0;34m)\u001b[0m\u001b[0;34m:\u001b[0m\u001b[0;34m\u001b[0m\u001b[0;34m\u001b[0m\u001b[0m\n\u001b[0;32m---> 74\u001b[0;31m         \u001b[0mresult\u001b[0m \u001b[0;34m=\u001b[0m \u001b[0mdraw\u001b[0m\u001b[0;34m(\u001b[0m\u001b[0martist\u001b[0m\u001b[0;34m,\u001b[0m \u001b[0mrenderer\u001b[0m\u001b[0;34m,\u001b[0m \u001b[0;34m*\u001b[0m\u001b[0margs\u001b[0m\u001b[0;34m,\u001b[0m \u001b[0;34m**\u001b[0m\u001b[0mkwargs\u001b[0m\u001b[0;34m)\u001b[0m\u001b[0;34m\u001b[0m\u001b[0;34m\u001b[0m\u001b[0m\n\u001b[0m\u001b[1;32m     75\u001b[0m         \u001b[0;32mif\u001b[0m \u001b[0mrenderer\u001b[0m\u001b[0;34m.\u001b[0m\u001b[0m_rasterizing\u001b[0m\u001b[0;34m:\u001b[0m\u001b[0;34m\u001b[0m\u001b[0;34m\u001b[0m\u001b[0m\n\u001b[1;32m     76\u001b[0m             \u001b[0mrenderer\u001b[0m\u001b[0;34m.\u001b[0m\u001b[0mstop_rasterizing\u001b[0m\u001b[0;34m(\u001b[0m\u001b[0;34m)\u001b[0m\u001b[0;34m\u001b[0m\u001b[0;34m\u001b[0m\u001b[0m\n",
      "\u001b[0;32m~/.pyenv/versions/3.8.11/lib/python3.8/site-packages/matplotlib/artist.py\u001b[0m in \u001b[0;36mdraw_wrapper\u001b[0;34m(artist, renderer, *args, **kwargs)\u001b[0m\n\u001b[1;32m     49\u001b[0m                 \u001b[0mrenderer\u001b[0m\u001b[0;34m.\u001b[0m\u001b[0mstart_filter\u001b[0m\u001b[0;34m(\u001b[0m\u001b[0;34m)\u001b[0m\u001b[0;34m\u001b[0m\u001b[0;34m\u001b[0m\u001b[0m\n\u001b[1;32m     50\u001b[0m \u001b[0;34m\u001b[0m\u001b[0m\n\u001b[0;32m---> 51\u001b[0;31m             \u001b[0;32mreturn\u001b[0m \u001b[0mdraw\u001b[0m\u001b[0;34m(\u001b[0m\u001b[0martist\u001b[0m\u001b[0;34m,\u001b[0m \u001b[0mrenderer\u001b[0m\u001b[0;34m,\u001b[0m \u001b[0;34m*\u001b[0m\u001b[0margs\u001b[0m\u001b[0;34m,\u001b[0m \u001b[0;34m**\u001b[0m\u001b[0mkwargs\u001b[0m\u001b[0;34m)\u001b[0m\u001b[0;34m\u001b[0m\u001b[0;34m\u001b[0m\u001b[0m\n\u001b[0m\u001b[1;32m     52\u001b[0m         \u001b[0;32mfinally\u001b[0m\u001b[0;34m:\u001b[0m\u001b[0;34m\u001b[0m\u001b[0;34m\u001b[0m\u001b[0m\n\u001b[1;32m     53\u001b[0m             \u001b[0;32mif\u001b[0m \u001b[0martist\u001b[0m\u001b[0;34m.\u001b[0m\u001b[0mget_agg_filter\u001b[0m\u001b[0;34m(\u001b[0m\u001b[0;34m)\u001b[0m \u001b[0;32mis\u001b[0m \u001b[0;32mnot\u001b[0m \u001b[0;32mNone\u001b[0m\u001b[0;34m:\u001b[0m\u001b[0;34m\u001b[0m\u001b[0;34m\u001b[0m\u001b[0m\n",
      "\u001b[0;32m~/.pyenv/versions/3.8.11/lib/python3.8/site-packages/matplotlib/figure.py\u001b[0m in \u001b[0;36mdraw\u001b[0;34m(self, renderer)\u001b[0m\n\u001b[1;32m   2788\u001b[0m \u001b[0;34m\u001b[0m\u001b[0m\n\u001b[1;32m   2789\u001b[0m             \u001b[0mself\u001b[0m\u001b[0;34m.\u001b[0m\u001b[0mpatch\u001b[0m\u001b[0;34m.\u001b[0m\u001b[0mdraw\u001b[0m\u001b[0;34m(\u001b[0m\u001b[0mrenderer\u001b[0m\u001b[0;34m)\u001b[0m\u001b[0;34m\u001b[0m\u001b[0;34m\u001b[0m\u001b[0m\n\u001b[0;32m-> 2790\u001b[0;31m             mimage._draw_list_compositing_images(\n\u001b[0m\u001b[1;32m   2791\u001b[0m                 renderer, self, artists, self.suppressComposite)\n\u001b[1;32m   2792\u001b[0m \u001b[0;34m\u001b[0m\u001b[0m\n",
      "\u001b[0;32m~/.pyenv/versions/3.8.11/lib/python3.8/site-packages/matplotlib/image.py\u001b[0m in \u001b[0;36m_draw_list_compositing_images\u001b[0;34m(renderer, parent, artists, suppress_composite)\u001b[0m\n\u001b[1;32m    130\u001b[0m     \u001b[0;32mif\u001b[0m \u001b[0mnot_composite\u001b[0m \u001b[0;32mor\u001b[0m \u001b[0;32mnot\u001b[0m \u001b[0mhas_images\u001b[0m\u001b[0;34m:\u001b[0m\u001b[0;34m\u001b[0m\u001b[0;34m\u001b[0m\u001b[0m\n\u001b[1;32m    131\u001b[0m         \u001b[0;32mfor\u001b[0m \u001b[0ma\u001b[0m \u001b[0;32min\u001b[0m \u001b[0martists\u001b[0m\u001b[0;34m:\u001b[0m\u001b[0;34m\u001b[0m\u001b[0;34m\u001b[0m\u001b[0m\n\u001b[0;32m--> 132\u001b[0;31m             \u001b[0ma\u001b[0m\u001b[0;34m.\u001b[0m\u001b[0mdraw\u001b[0m\u001b[0;34m(\u001b[0m\u001b[0mrenderer\u001b[0m\u001b[0;34m)\u001b[0m\u001b[0;34m\u001b[0m\u001b[0;34m\u001b[0m\u001b[0m\n\u001b[0m\u001b[1;32m    133\u001b[0m     \u001b[0;32melse\u001b[0m\u001b[0;34m:\u001b[0m\u001b[0;34m\u001b[0m\u001b[0;34m\u001b[0m\u001b[0m\n\u001b[1;32m    134\u001b[0m         \u001b[0;31m# Composite any adjacent images together\u001b[0m\u001b[0;34m\u001b[0m\u001b[0;34m\u001b[0m\u001b[0;34m\u001b[0m\u001b[0m\n",
      "\u001b[0;32m~/.pyenv/versions/3.8.11/lib/python3.8/site-packages/matplotlib/artist.py\u001b[0m in \u001b[0;36mdraw_wrapper\u001b[0;34m(artist, renderer, *args, **kwargs)\u001b[0m\n\u001b[1;32m     49\u001b[0m                 \u001b[0mrenderer\u001b[0m\u001b[0;34m.\u001b[0m\u001b[0mstart_filter\u001b[0m\u001b[0;34m(\u001b[0m\u001b[0;34m)\u001b[0m\u001b[0;34m\u001b[0m\u001b[0;34m\u001b[0m\u001b[0m\n\u001b[1;32m     50\u001b[0m \u001b[0;34m\u001b[0m\u001b[0m\n\u001b[0;32m---> 51\u001b[0;31m             \u001b[0;32mreturn\u001b[0m \u001b[0mdraw\u001b[0m\u001b[0;34m(\u001b[0m\u001b[0martist\u001b[0m\u001b[0;34m,\u001b[0m \u001b[0mrenderer\u001b[0m\u001b[0;34m,\u001b[0m \u001b[0;34m*\u001b[0m\u001b[0margs\u001b[0m\u001b[0;34m,\u001b[0m \u001b[0;34m**\u001b[0m\u001b[0mkwargs\u001b[0m\u001b[0;34m)\u001b[0m\u001b[0;34m\u001b[0m\u001b[0;34m\u001b[0m\u001b[0m\n\u001b[0m\u001b[1;32m     52\u001b[0m         \u001b[0;32mfinally\u001b[0m\u001b[0;34m:\u001b[0m\u001b[0;34m\u001b[0m\u001b[0;34m\u001b[0m\u001b[0m\n\u001b[1;32m     53\u001b[0m             \u001b[0;32mif\u001b[0m \u001b[0martist\u001b[0m\u001b[0;34m.\u001b[0m\u001b[0mget_agg_filter\u001b[0m\u001b[0;34m(\u001b[0m\u001b[0;34m)\u001b[0m \u001b[0;32mis\u001b[0m \u001b[0;32mnot\u001b[0m \u001b[0;32mNone\u001b[0m\u001b[0;34m:\u001b[0m\u001b[0;34m\u001b[0m\u001b[0;34m\u001b[0m\u001b[0m\n",
      "\u001b[0;32m~/.pyenv/versions/3.8.11/lib/python3.8/site-packages/matplotlib/_api/deprecation.py\u001b[0m in \u001b[0;36mwrapper\u001b[0;34m(*inner_args, **inner_kwargs)\u001b[0m\n\u001b[1;32m    429\u001b[0m                          \u001b[0;32melse\u001b[0m \u001b[0mdeprecation_addendum\u001b[0m\u001b[0;34m,\u001b[0m\u001b[0;34m\u001b[0m\u001b[0;34m\u001b[0m\u001b[0m\n\u001b[1;32m    430\u001b[0m                 **kwargs)\n\u001b[0;32m--> 431\u001b[0;31m         \u001b[0;32mreturn\u001b[0m \u001b[0mfunc\u001b[0m\u001b[0;34m(\u001b[0m\u001b[0;34m*\u001b[0m\u001b[0minner_args\u001b[0m\u001b[0;34m,\u001b[0m \u001b[0;34m**\u001b[0m\u001b[0minner_kwargs\u001b[0m\u001b[0;34m)\u001b[0m\u001b[0;34m\u001b[0m\u001b[0;34m\u001b[0m\u001b[0m\n\u001b[0m\u001b[1;32m    432\u001b[0m \u001b[0;34m\u001b[0m\u001b[0m\n\u001b[1;32m    433\u001b[0m     \u001b[0;32mreturn\u001b[0m \u001b[0mwrapper\u001b[0m\u001b[0;34m\u001b[0m\u001b[0;34m\u001b[0m\u001b[0m\n",
      "\u001b[0;32m~/.pyenv/versions/3.8.11/lib/python3.8/site-packages/matplotlib/axes/_base.py\u001b[0m in \u001b[0;36mdraw\u001b[0;34m(self, renderer, inframe)\u001b[0m\n\u001b[1;32m   2919\u001b[0m             \u001b[0mrenderer\u001b[0m\u001b[0;34m.\u001b[0m\u001b[0mstop_rasterizing\u001b[0m\u001b[0;34m(\u001b[0m\u001b[0;34m)\u001b[0m\u001b[0;34m\u001b[0m\u001b[0;34m\u001b[0m\u001b[0m\n\u001b[1;32m   2920\u001b[0m \u001b[0;34m\u001b[0m\u001b[0m\n\u001b[0;32m-> 2921\u001b[0;31m         \u001b[0mmimage\u001b[0m\u001b[0;34m.\u001b[0m\u001b[0m_draw_list_compositing_images\u001b[0m\u001b[0;34m(\u001b[0m\u001b[0mrenderer\u001b[0m\u001b[0;34m,\u001b[0m \u001b[0mself\u001b[0m\u001b[0;34m,\u001b[0m \u001b[0martists\u001b[0m\u001b[0;34m)\u001b[0m\u001b[0;34m\u001b[0m\u001b[0;34m\u001b[0m\u001b[0m\n\u001b[0m\u001b[1;32m   2922\u001b[0m \u001b[0;34m\u001b[0m\u001b[0m\n\u001b[1;32m   2923\u001b[0m         \u001b[0mrenderer\u001b[0m\u001b[0;34m.\u001b[0m\u001b[0mclose_group\u001b[0m\u001b[0;34m(\u001b[0m\u001b[0;34m'axes'\u001b[0m\u001b[0;34m)\u001b[0m\u001b[0;34m\u001b[0m\u001b[0;34m\u001b[0m\u001b[0m\n",
      "\u001b[0;32m~/.pyenv/versions/3.8.11/lib/python3.8/site-packages/matplotlib/image.py\u001b[0m in \u001b[0;36m_draw_list_compositing_images\u001b[0;34m(renderer, parent, artists, suppress_composite)\u001b[0m\n\u001b[1;32m    130\u001b[0m     \u001b[0;32mif\u001b[0m \u001b[0mnot_composite\u001b[0m \u001b[0;32mor\u001b[0m \u001b[0;32mnot\u001b[0m \u001b[0mhas_images\u001b[0m\u001b[0;34m:\u001b[0m\u001b[0;34m\u001b[0m\u001b[0;34m\u001b[0m\u001b[0m\n\u001b[1;32m    131\u001b[0m         \u001b[0;32mfor\u001b[0m \u001b[0ma\u001b[0m \u001b[0;32min\u001b[0m \u001b[0martists\u001b[0m\u001b[0;34m:\u001b[0m\u001b[0;34m\u001b[0m\u001b[0;34m\u001b[0m\u001b[0m\n\u001b[0;32m--> 132\u001b[0;31m             \u001b[0ma\u001b[0m\u001b[0;34m.\u001b[0m\u001b[0mdraw\u001b[0m\u001b[0;34m(\u001b[0m\u001b[0mrenderer\u001b[0m\u001b[0;34m)\u001b[0m\u001b[0;34m\u001b[0m\u001b[0;34m\u001b[0m\u001b[0m\n\u001b[0m\u001b[1;32m    133\u001b[0m     \u001b[0;32melse\u001b[0m\u001b[0;34m:\u001b[0m\u001b[0;34m\u001b[0m\u001b[0;34m\u001b[0m\u001b[0m\n\u001b[1;32m    134\u001b[0m         \u001b[0;31m# Composite any adjacent images together\u001b[0m\u001b[0;34m\u001b[0m\u001b[0;34m\u001b[0m\u001b[0;34m\u001b[0m\u001b[0m\n",
      "\u001b[0;32m~/.pyenv/versions/3.8.11/lib/python3.8/site-packages/matplotlib/artist.py\u001b[0m in \u001b[0;36mdraw_wrapper\u001b[0;34m(artist, renderer, *args, **kwargs)\u001b[0m\n\u001b[1;32m     49\u001b[0m                 \u001b[0mrenderer\u001b[0m\u001b[0;34m.\u001b[0m\u001b[0mstart_filter\u001b[0m\u001b[0;34m(\u001b[0m\u001b[0;34m)\u001b[0m\u001b[0;34m\u001b[0m\u001b[0;34m\u001b[0m\u001b[0m\n\u001b[1;32m     50\u001b[0m \u001b[0;34m\u001b[0m\u001b[0m\n\u001b[0;32m---> 51\u001b[0;31m             \u001b[0;32mreturn\u001b[0m \u001b[0mdraw\u001b[0m\u001b[0;34m(\u001b[0m\u001b[0martist\u001b[0m\u001b[0;34m,\u001b[0m \u001b[0mrenderer\u001b[0m\u001b[0;34m,\u001b[0m \u001b[0;34m*\u001b[0m\u001b[0margs\u001b[0m\u001b[0;34m,\u001b[0m \u001b[0;34m**\u001b[0m\u001b[0mkwargs\u001b[0m\u001b[0;34m)\u001b[0m\u001b[0;34m\u001b[0m\u001b[0;34m\u001b[0m\u001b[0m\n\u001b[0m\u001b[1;32m     52\u001b[0m         \u001b[0;32mfinally\u001b[0m\u001b[0;34m:\u001b[0m\u001b[0;34m\u001b[0m\u001b[0;34m\u001b[0m\u001b[0m\n\u001b[1;32m     53\u001b[0m             \u001b[0;32mif\u001b[0m \u001b[0martist\u001b[0m\u001b[0;34m.\u001b[0m\u001b[0mget_agg_filter\u001b[0m\u001b[0;34m(\u001b[0m\u001b[0;34m)\u001b[0m \u001b[0;32mis\u001b[0m \u001b[0;32mnot\u001b[0m \u001b[0;32mNone\u001b[0m\u001b[0;34m:\u001b[0m\u001b[0;34m\u001b[0m\u001b[0;34m\u001b[0m\u001b[0m\n",
      "\u001b[0;32m~/.pyenv/versions/3.8.11/lib/python3.8/site-packages/matplotlib/image.py\u001b[0m in \u001b[0;36mdraw\u001b[0;34m(self, renderer, *args, **kwargs)\u001b[0m\n\u001b[1;32m    638\u001b[0m                 \u001b[0mrenderer\u001b[0m\u001b[0;34m.\u001b[0m\u001b[0mdraw_image\u001b[0m\u001b[0;34m(\u001b[0m\u001b[0mgc\u001b[0m\u001b[0;34m,\u001b[0m \u001b[0ml\u001b[0m\u001b[0;34m,\u001b[0m \u001b[0mb\u001b[0m\u001b[0;34m,\u001b[0m \u001b[0mim\u001b[0m\u001b[0;34m,\u001b[0m \u001b[0mtrans\u001b[0m\u001b[0;34m)\u001b[0m\u001b[0;34m\u001b[0m\u001b[0;34m\u001b[0m\u001b[0m\n\u001b[1;32m    639\u001b[0m         \u001b[0;32melse\u001b[0m\u001b[0;34m:\u001b[0m\u001b[0;34m\u001b[0m\u001b[0;34m\u001b[0m\u001b[0m\n\u001b[0;32m--> 640\u001b[0;31m             im, l, b, trans = self.make_image(\n\u001b[0m\u001b[1;32m    641\u001b[0m                 renderer, renderer.get_image_magnification())\n\u001b[1;32m    642\u001b[0m             \u001b[0;32mif\u001b[0m \u001b[0mim\u001b[0m \u001b[0;32mis\u001b[0m \u001b[0;32mnot\u001b[0m \u001b[0;32mNone\u001b[0m\u001b[0;34m:\u001b[0m\u001b[0;34m\u001b[0m\u001b[0;34m\u001b[0m\u001b[0m\n",
      "\u001b[0;32m~/.pyenv/versions/3.8.11/lib/python3.8/site-packages/matplotlib/image.py\u001b[0m in \u001b[0;36mmake_image\u001b[0;34m(self, renderer, magnification, unsampled)\u001b[0m\n\u001b[1;32m    924\u001b[0m         clip = ((self.get_clip_box() or self.axes.bbox) if self.get_clip_on()\n\u001b[1;32m    925\u001b[0m                 else self.figure.bbox)\n\u001b[0;32m--> 926\u001b[0;31m         return self._make_image(self._A, bbox, transformed_bbox, clip,\n\u001b[0m\u001b[1;32m    927\u001b[0m                                 magnification, unsampled=unsampled)\n\u001b[1;32m    928\u001b[0m \u001b[0;34m\u001b[0m\u001b[0m\n",
      "\u001b[0;32m~/.pyenv/versions/3.8.11/lib/python3.8/site-packages/matplotlib/image.py\u001b[0m in \u001b[0;36m_make_image\u001b[0;34m(self, A, in_bbox, out_bbox, clip_bbox, magnification, unsampled, round_to_pixel_border)\u001b[0m\n\u001b[1;32m    549\u001b[0m                 output_alpha = _resample(  # resample alpha channel\n\u001b[1;32m    550\u001b[0m                     self, A[..., 3], out_shape, t, alpha=alpha)\n\u001b[0;32m--> 551\u001b[0;31m                 output = _resample(  # resample rgb channels\n\u001b[0m\u001b[1;32m    552\u001b[0m                     self, _rgb_to_rgba(A[..., :3]), out_shape, t, alpha=alpha)\n\u001b[1;32m    553\u001b[0m                 \u001b[0moutput\u001b[0m\u001b[0;34m[\u001b[0m\u001b[0;34m...\u001b[0m\u001b[0;34m,\u001b[0m \u001b[0;36m3\u001b[0m\u001b[0;34m]\u001b[0m \u001b[0;34m=\u001b[0m \u001b[0moutput_alpha\u001b[0m  \u001b[0;31m# recombine rgb and alpha\u001b[0m\u001b[0;34m\u001b[0m\u001b[0;34m\u001b[0m\u001b[0m\n",
      "\u001b[0;32m~/.pyenv/versions/3.8.11/lib/python3.8/site-packages/matplotlib/image.py\u001b[0m in \u001b[0;36m_resample\u001b[0;34m(image_obj, data, out_shape, transform, resample, alpha)\u001b[0m\n\u001b[1;32m    191\u001b[0m     \u001b[0;32mif\u001b[0m \u001b[0mresample\u001b[0m \u001b[0;32mis\u001b[0m \u001b[0;32mNone\u001b[0m\u001b[0;34m:\u001b[0m\u001b[0;34m\u001b[0m\u001b[0;34m\u001b[0m\u001b[0m\n\u001b[1;32m    192\u001b[0m         \u001b[0mresample\u001b[0m \u001b[0;34m=\u001b[0m \u001b[0mimage_obj\u001b[0m\u001b[0;34m.\u001b[0m\u001b[0mget_resample\u001b[0m\u001b[0;34m(\u001b[0m\u001b[0;34m)\u001b[0m\u001b[0;34m\u001b[0m\u001b[0;34m\u001b[0m\u001b[0m\n\u001b[0;32m--> 193\u001b[0;31m     _image.resample(data, out, transform,\n\u001b[0m\u001b[1;32m    194\u001b[0m                     \u001b[0m_interpd_\u001b[0m\u001b[0;34m[\u001b[0m\u001b[0minterpolation\u001b[0m\u001b[0;34m]\u001b[0m\u001b[0;34m,\u001b[0m\u001b[0;34m\u001b[0m\u001b[0;34m\u001b[0m\u001b[0m\n\u001b[1;32m    195\u001b[0m                     \u001b[0mresample\u001b[0m\u001b[0;34m,\u001b[0m\u001b[0;34m\u001b[0m\u001b[0;34m\u001b[0m\u001b[0m\n",
      "\u001b[0;31mKeyboardInterrupt\u001b[0m: "
     ]
    },
    {
     "data": {
      "image/png": "[encoded data removed]",
      "text/plain": [
       "<Figure size 720x720 with 3 Axes>"
      ]
     },
     "metadata": {
      "needs_background": "light"
     },
     "output_type": "display_data"
    }
   ],
   "source": [
    "numpy_path = \"numpy/2022-03-24\"\n",
    "numpy_dir_list = os.listdir(numpy_path)\n",
    "\n",
    "results_path = \"result\"\n",
    "os.makedirs(results_path, exist_ok=True)\n",
    "\n",
    "for numpy_dir in numpy_dir_list:\n",
    "    observations = {}\n",
    "    dir_path = os.path.join(numpy_path, numpy_dir)\n",
    "    n_frame = sum(os.path.isfile(os.path.join(dir_path, name)) for name in os.listdir(dir_path))\n",
    "    for i in range(n_frame):\n",
    "        file_path = os.path.join(dir_path, \"frame_%05d.npy\" % i)\n",
    "        dict = np.load(file_path, allow_pickle=True).item()\n",
    "        observation = dict['observations']\n",
    "        for key in observation.keys():\n",
    "            if not key in observations.keys():\n",
    "                observations[key] = tensor2numpy(observation[key])\n",
    "            else:\n",
    "                observations[key] = np.concatenate([observations[key], tensor2numpy(observation[key])], axis=0)\n",
    "                \n",
    "    # n_frame = 1\n",
    "    plot_observations(observations, results_path, numpy_dir, n_frame)"
   ]
  },
  {
   "cell_type": "code",
   "execution_count": 3,
   "metadata": {},
   "outputs": [
    {
     "name": "stdout",
     "output_type": "stream",
     "text": [
      "uptime : (494,)\n",
      "latency : (494,)\n",
      "image_horizon : (494, 3, 64, 64)\n",
      "sound : (494, 128, 20)\n",
      "end_effector : (494, 3)\n",
      "beliefs : (494, 2, 200)\n",
      "prior_states : (494, 2, 30)\n",
      "uptime : (599,)\n",
      "latency : (599,)\n",
      "image_horizon : (599, 3, 64, 64)\n",
      "sound : (599, 128, 20)\n",
      "end_effector : (599, 3)\n",
      "beliefs : (599, 2, 200)\n",
      "prior_states : (599, 2, 30)\n",
      "uptime : (396,)\n",
      "latency : (396,)\n",
      "image_horizon : (396, 3, 64, 64)\n",
      "sound : (396, 128, 20)\n",
      "end_effector : (396, 3)\n",
      "beliefs : (396, 2, 200)\n",
      "prior_states : (396, 2, 30)\n",
      "uptime : (825,)\n",
      "latency : (825,)\n",
      "image_horizon : (825, 3, 64, 64)\n",
      "sound : (825, 128, 20)\n",
      "end_effector : (825, 3)\n",
      "beliefs : (825, 2, 200)\n",
      "prior_states : (825, 2, 30)\n",
      "uptime : (879,)\n",
      "latency : (879,)\n",
      "image_horizon : (879, 3, 64, 64)\n",
      "sound : (879, 128, 20)\n",
      "end_effector : (879, 3)\n",
      "beliefs : (879, 2, 200)\n",
      "prior_states : (879, 2, 30)\n",
      "uptime : (301,)\n",
      "latency : (301,)\n",
      "image_horizon : (301, 3, 64, 64)\n",
      "sound : (301, 128, 20)\n",
      "end_effector : (301, 3)\n",
      "beliefs : (301, 2, 200)\n",
      "prior_states : (301, 2, 30)\n",
      "uptime : (597,)\n",
      "latency : (597,)\n",
      "image_horizon : (597, 3, 64, 64)\n",
      "sound : (597, 128, 20)\n",
      "end_effector : (597, 3)\n",
      "beliefs : (597, 2, 200)\n",
      "prior_states : (597, 2, 30)\n",
      "uptime : (638,)\n",
      "latency : (638,)\n",
      "image_horizon : (638, 3, 64, 64)\n",
      "sound : (638, 128, 20)\n",
      "end_effector : (638, 3)\n",
      "beliefs : (638, 2, 200)\n",
      "prior_states : (638, 2, 30)\n"
     ]
    }
   ],
   "source": [
    "numpy_path = \"numpy/2022-03-24\"\n",
    "numpy_dir_list = os.listdir(numpy_path)\n",
    "\n",
    "results_path = \"result/2022-03-24\"\n",
    "os.makedirs(results_path, exist_ok=True)\n",
    "\n",
    "\n",
    "def get_latent_state(data, key):\n",
    "    if key == 'beliefs':\n",
    "        temp = tensor2numpy(data[key][0])\n",
    "        for i in range(1, len(data[key])):\n",
    "            temp = np.concatenate([temp, np.squeeze(tensor2numpy(data[key][i]), axis=0)], axis=0)\n",
    "        temp = np.expand_dims(temp, axis=0)\n",
    "    elif key == 'prior_states':\n",
    "        temp = np.expand_dims(np.expand_dims(tensor2numpy(data['posterior_states'][0]), axis=0), axis=0)\n",
    "        temp = np.concatenate([temp, tensor2numpy(data[key][1])], axis=1)\n",
    "    return temp\n",
    "    \n",
    "\n",
    "\n",
    "for numpy_dir in numpy_dir_list:\n",
    "    start_time = 0\n",
    "    stamps = {}\n",
    "    observations = {}\n",
    "    latent_state = {}\n",
    "    latent_state_keys = ['beliefs', 'prior_states']\n",
    "    \n",
    "    dir_path = os.path.join(numpy_path, numpy_dir)\n",
    "    n_frame = sum(os.path.isfile(os.path.join(dir_path, name)) for name in os.listdir(dir_path))\n",
    "    for i in range(n_frame):\n",
    "        file_path = os.path.join(dir_path, \"frame_%05d.npy\" % i)\n",
    "        dict = np.load(file_path, allow_pickle=True).item()\n",
    "        # 'stamp_up', 'stamp_action', 'observations', 'action', 'beliefs', 'prior_states', 'posterior_states'\n",
    "        # time stamps and action\n",
    "        if i == 0:\n",
    "            start_time = dict['stamp_up']\n",
    "            stamps['uptime'] = np.array(dict['stamp_up'] - start_time, dtype=np.float32)\n",
    "            stamps['latency'] = np.array(dict['stamp_action'] - dict['stamp_up'], dtype=np.float32)\n",
    "            actions = np.expand_dims(dict[\"action\"], axis=0)\n",
    "            # RSSM parameters\n",
    "            for key in latent_state_keys:\n",
    "                latent_state[key] = get_latent_state(dict, key)\n",
    "        else:\n",
    "            stamps['uptime'] = np.append(stamps['uptime'], dict['stamp_up'] - start_time).astype(np.float32)\n",
    "            stamps['latency'] = np.append(stamps['latency'], dict['stamp_action'] - dict['stamp_up']).astype(np.float32)\n",
    "            actions = np.concatenate([actions, np.expand_dims(dict[\"action\"], axis=0)], axis=0)\n",
    "            for key in latent_state_keys:\n",
    "                latent_state[key] = np.concatenate([latent_state[key], get_latent_state(dict, key)], axis=0)\n",
    "        # observation\n",
    "        observation = dict['observations']\n",
    "        for obs_key in observation.keys():\n",
    "            if not obs_key in observations.keys():\n",
    "                observations[obs_key] = tensor2numpy(observation[obs_key])\n",
    "            else:\n",
    "                observations[obs_key] = np.concatenate([observations[obs_key], tensor2numpy(observation[obs_key])], axis=0)\n",
    "                \n",
    "    for key in stamps.keys():\n",
    "        print(key + \" : \" + str(stamps[key].shape))\n",
    "    for key in observations.keys():\n",
    "        print(key + \" : \" + str(observations[key].shape))\n",
    "    for key in latent_state_keys:\n",
    "        print(key + \" : \" + str(latent_state[key].shape))\n",
    "    "
   ]
  },
  {
   "cell_type": "code",
   "execution_count": 4,
   "metadata": {},
   "outputs": [],
   "source": [
    "def flat(feat):\n",
    "    feat_size = feat.shape[-1]\n",
    "    return feat.reshape(-1, feat_size)\n",
    "\n",
    "def get_xyz(feat):\n",
    "    feat_flat = flat(feat)\n",
    "    if not (feat_flat.shape[1] == 3):\n",
    "        print(\"error\")\n",
    "    return feat_flat[:, 0], feat_flat[:, 1], feat_flat[:, 2]\n",
    "\n",
    "def plot_ls_traj(ax, traj_rec, traj_imag, t, dim=2):\n",
    "    x_rec, y_rec, z_rec = get_xyz(traj_rec[:t+1])\n",
    "    x_imag, y_imag, z_imag = get_xyz(traj_imag[:t+1])\n",
    "    if dim == 3:\n",
    "        ax.plot(x_rec, y_rec, z_rec, label=\"rec\", marker=\"x\")\n",
    "        ax.plot(x_imag, y_imag, z_imag, label=\"imag\", marker=\"x\")\n",
    "    else:\n",
    "        ax.plot(x_rec, y_rec, label=\"rec\", marker=\"x\")\n",
    "        ax.plot(x_imag, y_imag, label=\"imag\", marker=\"x\")\n",
    "    ax.set_xlim(-10, 10)\n",
    "    ax.set_ylim(-10, 10)\n",
    "    # ax.set_xlabel(\"X-axis\")\n",
    "    # ax.set_ylabel(\"Y-axis\")\n",
    "    if dim == 3:\n",
    "        ax.set_zlim(-10, 10)\n",
    "        # ax.set_zlabel(\"Z-axis\")\n",
    "        \n",
    "def plot_eepos_traj(data, ax, t, dim=3):\n",
    "    pos_x, pos_y, pos_z = get_xyz(data[:t])\n",
    "    if dim == 3:\n",
    "        ax.plot(pos_x, pos_y, pos_z, marker=\"x\")\n",
    "    else:\n",
    "        ax.plot(pos_x, pos_y, marker=\"x\")\n",
    "    ax.set_xlim(0.2, 0.3)\n",
    "    ax.set_ylim(0.005, 0.01)\n",
    "    if dim == 3:\n",
    "        ax.set_zlim(0.15, 0.25)\n",
    "\n",
    "def plot_ts_line(data, x_key, y_key, ax, t, length=10):\n",
    "    if t < length:\n",
    "        data_x = data[x_key][:t]\n",
    "        data_y = data[y_key][:t]\n",
    "    else:\n",
    "        data_x = data[x_key][t-length:t]\n",
    "        data_y = data[y_key][t-length:t]\n",
    "    ax.plot(data_x, data_y, marker=\"x\")\n",
    "    ax.set_xticks(np.arange(min(data_x)-0.1, max(data_x)+0.1, 0.1))\n",
    "    ax.set_ylim(min(data_y)-0.01, max(data_y)+0.01)\n",
    "    \n",
    "\n",
    "\n",
    "def plot_obs_stamp_ls(observations, stamps, latent_state, plot_dir, file_name, n_frame=None, pca_dim = 2):\n",
    "    if n_frame == None:\n",
    "        n_frame = len(observations[\"image_horizon\"])\n",
    "\n",
    "    # fft parameter\n",
    "    sr = 16000\n",
    "    fft_size = 1024\n",
    "    frame_period = 5  # ms\n",
    "    target_hz = 10\n",
    "    hop_length = int(0.001 * sr * frame_period)\n",
    "    frame_num = int((1 / target_hz) / (0.001 * frame_period))\n",
    "    \n",
    "    \n",
    "\n",
    "    fig = plt.figure(figsize=(5 * 3, 5 * 3))\n",
    "    ax1 = fig.add_subplot(3, 3, 1)\n",
    "    ax2 = fig.add_subplot(3, 3, 2)        \n",
    "    if pca_dim == 2:\n",
    "        ax3 = fig.add_subplot(3, 3, 3)\n",
    "    elif pca_dim == 3:\n",
    "        ax3 = fig.add_subplot(3, 3, 3, projection=\"3d\")\n",
    "    ax4 = fig.add_subplot(3, 3, 4, projection=\"3d\")\n",
    "    ax5 = fig.add_subplot(3, 3, 5)\n",
    "    if pca_dim == 2:\n",
    "        ax6 = fig.add_subplot(3, 3, 6)\n",
    "    elif pca_dim == 3:\n",
    "        ax6 = fig.add_subplot(3, 3, 6, projection=\"3d\")\n",
    "    ax7 = fig.add_subplot(3, 3, 7, projection=\"3d\")\n",
    "\n",
    "    def plot(t):\n",
    "        plt.cla()\n",
    "        \n",
    "        # Observation\n",
    "        imh = postprocess_observation(observations[\"image_horizon\"][t])\n",
    "        ax1.imshow(imh.transpose(1, 2, 0)[:,:,::-1])\n",
    "        mlsp = sound_postprocess(observations[\"sound\"][t])\n",
    "        librosa.display.specshow(mlsp, x_axis=\"ms\", y_axis=\"mel\", sr=sr, hop_length=hop_length, ax=ax2)\n",
    "        plot_eepos_traj(observations[\"end_effector\"], ax4, t)\n",
    "        \n",
    "        # stamp\n",
    "        plot_ts_line(stamps, 'uptime', 'latency', ax=ax5, t=t, length=10)\n",
    "        \n",
    "        # latent state\n",
    "        # TODO : pca_process\n",
    "        plot_ls_traj(ax=ax3, )\n",
    "        # TODO : pca_process\n",
    "        plot_ls_traj(ax=ax6, )\n",
    "        \n",
    "        fig.suptitle(\"observation t={}\".format(t))\n",
    "        ax1.title.set_text(\"Horizontal Image\")\n",
    "        ax2.title.set_text(\"Mel-Spectrogram\")\n",
    "        ax3.title.set_text(\"Deterministic\")\n",
    "        ax4.title.set_text(\"End-effector Position\")\n",
    "        ax5.title.set_text(\"Latency\")\n",
    "        ax6.title.set_text(\"Stochastic\")\n",
    "\n",
    "    # create animation 10Hz\n",
    "    anim = FuncAnimation(fig, plot, frames=n_frame, interval=100)\n",
    "    save_plot_name = os.path.join(plot_dir, file_name + \".mp4\")\n",
    "    anim.save(save_plot_name, writer=\"ffmpeg\")"
   ]
  },
  {
   "cell_type": "code",
   "execution_count": 7,
   "metadata": {},
   "outputs": [
    {
     "name": "stdout",
     "output_type": "stream",
     "text": [
      "(638, 2, 3) (638, 2, 3)\n"
     ]
    }
   ],
   "source": [
    "import pickle as pk\n",
    "\n",
    "pca_belief = pk.load(open('pca/pca_belief.pkl', 'rb'))\n",
    "pca_post_mean = pk.load(open('pca/pca_post_mean.pkl', 'rb'))\n",
    "\n",
    "# test = np.zeros((1, 200), dtype=np.float32)\n",
    "# print(test.shape)\n",
    "# test = pca_belief.transform(test)\n",
    "# print(test.shape)\n",
    "# print(get_xyz(test))\n",
    "\n",
    "def pca_process(data, key, pca_model):\n",
    "    shape = data[key].shape[:-1] + (3,)\n",
    "    result = np.zeros(shape, dtype=np.float32)\n",
    "    for i in range(shape[0]):\n",
    "        result[i] = pca_model.transform(data[key][i])\n",
    "    return result\n",
    "\n",
    "# 'beliefs', 'prior_states'\n",
    "clip_belief = pca_process(latent_state, 'beliefs', pca_belief)\n",
    "clip_prior_states = pca_process(latent_state, 'prior_states', pca_post_mean)\n",
    "\n",
    "print(clip_belief.shape, clip_prior_states.shape)"
   ]
  },
  {
   "cell_type": "code",
   "execution_count": 27,
   "metadata": {},
   "outputs": [
    {
     "data": {
      "image/png": "[encoded data removed]",
      "text/plain": [
       "<Figure size 432x288 with 1 Axes>"
      ]
     },
     "metadata": {
      "needs_background": "light"
     },
     "output_type": "display_data"
    }
   ],
   "source": [
    "def plot_action_bar(actions, ax, t):\n",
    "    height = actions[t].flatten()\n",
    "    x_axis = np.array([1, 2, 3])\n",
    "    label = [\"X\", \"Y\", \"Z\"]\n",
    "    ax.bar(x_axis, height, tick_label=label, align=\"center\")\n",
    "    ax.axhline(0, color='grey', linewidth=0.8)\n",
    "    ax.set_ylim(np.min(actions)-0.005, np.max(actions)+0.005)\n",
    "\n",
    "fig, ax = plt.subplots()\n",
    "plot_action_bar(actions, ax, t=0)\n",
    "fig.show()"
   ]
  },
  {
   "cell_type": "code",
   "execution_count": 5,
   "metadata": {},
   "outputs": [
    {
     "data": {
      "image/png": "[encoded data removed]",
      "text/plain": [
       "<Figure size 432x288 with 1 Axes>"
      ]
     },
     "metadata": {
      "needs_background": "light"
     },
     "output_type": "display_data"
    }
   ],
   "source": [
    "def plot_ts_line(data, x_key, y_key, ax, t, length=10):\n",
    "    if t < length:\n",
    "        data_x = data[x_key][: t + 1]\n",
    "        data_y = data[y_key][: t + 1]\n",
    "    else:\n",
    "        data_x = data[x_key][t + 1 - length : t + 1]\n",
    "        data_y = data[y_key][t + 1 - length : t + 1]\n",
    "    ax.plot(data_x, data_y, color=\"k\", marker = \"x\")\n",
    "    ax.set_xticks(np.arange(min(data_x) - 0.1, max(data_x) + 0.1, 0.1))\n",
    "    ax.set_ylim(min(data[y_key]) - 0.01, max(data[y_key]) + 0.01)\n",
    "\n",
    "fig, ax = plt.subplots()\n",
    "plot_ts_line(stamps, \"uptime\", \"latency\", ax=ax, t=100, length=5)\n",
    "fig.show()"
   ]
  },
  {
   "cell_type": "code",
   "execution_count": 13,
   "metadata": {},
   "outputs": [
    {
     "data": {
      "image/png": "[encoded data removed]",
      "text/plain": [
       "<Figure size 432x288 with 1 Axes>"
      ]
     },
     "metadata": {
      "needs_background": "light"
     },
     "output_type": "display_data"
    }
   ],
   "source": [
    "def plot_ls_traj(data, ax, t, dim=2):\n",
    "    x_rec, y_rec, z_rec = get_xyz(data[:t, 0])\n",
    "    x_imag, y_imag, z_imag = get_xyz(data[t, :])\n",
    "    if dim == 3:\n",
    "        ax.plot(x_rec, y_rec, z_rec, marker=\"x\")\n",
    "        ax.plot(x_imag, y_imag, z_imag, marker=\"x\")\n",
    "    else:\n",
    "        ax.plot(x_rec, y_rec, marker=\"x\")\n",
    "        ax.plot(x_imag, y_imag, marker=\"x\")\n",
    "    ax.set_xlim(-10, 10)\n",
    "    ax.set_ylim(-10, 10)\n",
    "    # ax.set_xlabel(\"X-axis\")\n",
    "    # ax.set_ylabel(\"Y-axis\")\n",
    "    if dim == 3:\n",
    "        ax.set_zlim(-10, 10)\n",
    "        # ax.set_zlabel(\"Z-axis\")\n",
    "\n",
    "\n",
    "fig, ax = plt.subplots()\n",
    "plot_ls_traj(clip_belief, ax, t=500, dim=2)\n",
    "fig.show()"
   ]
  },
  {
   "cell_type": "code",
   "execution_count": 4,
   "metadata": {},
   "outputs": [
    {
     "name": "stdout",
     "output_type": "stream",
     "text": [
      "(128, 12760)\n"
     ]
    }
   ],
   "source": [
    "length, freq, frame = observations[\"sound\"].shape\n",
    "results = np.concatenate([observations[\"sound\"][i] for i in range(length)], axis=1)\n",
    "print(results.shape)"
   ]
  },
  {
   "cell_type": "code",
   "execution_count": 5,
   "metadata": {},
   "outputs": [
    {
     "data": {
      "text/plain": [
       "numpy.ndarray"
      ]
     },
     "execution_count": 5,
     "metadata": {},
     "output_type": "execute_result"
    }
   ],
   "source": [
    "type(observations[\"sound\"])"
   ]
  },
  {
   "cell_type": "code",
   "execution_count": 4,
   "metadata": {},
   "outputs": [
    {
     "data": {
      "text/plain": [
       "True"
      ]
     },
     "execution_count": 4,
     "metadata": {},
     "output_type": "execute_result"
    }
   ],
   "source": [
    "test = np.zeros(1)\n",
    "isinstance(test, (np.ndarray, np.generic) )"
   ]
  },
  {
   "cell_type": "code",
   "execution_count": null,
   "metadata": {},
   "outputs": [],
   "source": []
  }
 ],
 "metadata": {
  "interpreter": {
   "hash": "c679a3f730aa2cfc3494a112805ca6f60f13fb7bace3347d19761cb3992408c5"
  },
  "kernelspec": {
   "display_name": "Python 3 (ipykernel)",
   "language": "python",
   "name": "python3"
  },
  "language_info": {
   "codemirror_mode": {
    "name": "ipython",
    "version": 3
   },
   "file_extension": ".py",
   "mimetype": "text/x-python",
   "name": "python",
   "nbconvert_exporter": "python",
   "pygments_lexer": "ipython3",
   "version": "3.8.11"
  }
 },
 "nbformat": 4,
 "nbformat_minor": 4
}
